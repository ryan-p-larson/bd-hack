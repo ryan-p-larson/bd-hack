{
 "cells": [
  {
   "cell_type": "code",
   "execution_count": 17,
   "metadata": {
    "collapsed": true
   },
   "outputs": [],
   "source": [
    "#libraries\n",
    "\n",
    "import pandas as pd\n",
    "import networkx as nx\n",
    "import json\n",
    "from networkx.readwrite import json_graph"
   ]
  },
  {
   "cell_type": "code",
   "execution_count": 4,
   "metadata": {
    "collapsed": false
   },
   "outputs": [
    {
     "data": {
      "text/html": [
       "<div>\n",
       "<table border=\"1\" class=\"dataframe\">\n",
       "  <thead>\n",
       "    <tr style=\"text-align: right;\">\n",
       "      <th></th>\n",
       "      <th>class</th>\n",
       "      <th>degree</th>\n",
       "      <th>degreeDesc</th>\n",
       "      <th>classMajor</th>\n",
       "      <th>classNum</th>\n",
       "      <th>degreeMajor</th>\n",
       "      <th>degreeType</th>\n",
       "      <th>degreeMajorRead</th>\n",
       "      <th>degreeFocus</th>\n",
       "    </tr>\n",
       "  </thead>\n",
       "  <tbody>\n",
       "    <tr>\n",
       "      <th>0</th>\n",
       "      <td>CLAS 1210</td>\n",
       "      <td>CLAS-AB</td>\n",
       "      <td>Classics - AB</td>\n",
       "      <td>CLAS</td>\n",
       "      <td>1210</td>\n",
       "      <td>CLAS</td>\n",
       "      <td>BA</td>\n",
       "      <td>Classics</td>\n",
       "      <td>NaN</td>\n",
       "    </tr>\n",
       "    <tr>\n",
       "      <th>1</th>\n",
       "      <td>CLAS 1220</td>\n",
       "      <td>CLAS-AB</td>\n",
       "      <td>Classics - AB</td>\n",
       "      <td>CLAS</td>\n",
       "      <td>1220</td>\n",
       "      <td>CLAS</td>\n",
       "      <td>BA</td>\n",
       "      <td>Classics</td>\n",
       "      <td>NaN</td>\n",
       "    </tr>\n",
       "    <tr>\n",
       "      <th>2</th>\n",
       "      <td>CLAS 1310</td>\n",
       "      <td>CLAS-AB</td>\n",
       "      <td>Classics - AB</td>\n",
       "      <td>CLAS</td>\n",
       "      <td>1310</td>\n",
       "      <td>CLAS</td>\n",
       "      <td>BA</td>\n",
       "      <td>Classics</td>\n",
       "      <td>NaN</td>\n",
       "    </tr>\n",
       "    <tr>\n",
       "      <th>3</th>\n",
       "      <td>CLAS 1320</td>\n",
       "      <td>CLAS-AB</td>\n",
       "      <td>Classics - AB</td>\n",
       "      <td>CLAS</td>\n",
       "      <td>1320</td>\n",
       "      <td>CLAS</td>\n",
       "      <td>BA</td>\n",
       "      <td>Classics</td>\n",
       "      <td>NaN</td>\n",
       "    </tr>\n",
       "    <tr>\n",
       "      <th>4</th>\n",
       "      <td>HIST 1201B</td>\n",
       "      <td>CLAS-AB</td>\n",
       "      <td>Classics - AB</td>\n",
       "      <td>HIST</td>\n",
       "      <td>1201B</td>\n",
       "      <td>CLAS</td>\n",
       "      <td>BA</td>\n",
       "      <td>Classics</td>\n",
       "      <td>NaN</td>\n",
       "    </tr>\n",
       "  </tbody>\n",
       "</table>\n",
       "</div>"
      ],
      "text/plain": [
       "        class   degree     degreeDesc classMajor classNum degreeMajor  \\\n",
       "0   CLAS 1210  CLAS-AB  Classics - AB       CLAS     1210        CLAS   \n",
       "1   CLAS 1220  CLAS-AB  Classics - AB       CLAS     1220        CLAS   \n",
       "2   CLAS 1310  CLAS-AB  Classics - AB       CLAS     1310        CLAS   \n",
       "3   CLAS 1320  CLAS-AB  Classics - AB       CLAS     1320        CLAS   \n",
       "4  HIST 1201B  CLAS-AB  Classics - AB       HIST    1201B        CLAS   \n",
       "\n",
       "  degreeType degreeMajorRead degreeFocus  \n",
       "0         BA        Classics         NaN  \n",
       "1         BA        Classics         NaN  \n",
       "2         BA        Classics         NaN  \n",
       "3         BA        Classics         NaN  \n",
       "4         BA        Classics         NaN  "
      ]
     },
     "execution_count": 4,
     "metadata": {},
     "output_type": "execute_result"
    }
   ],
   "source": [
    "leapClean = pd.read_csv('data/processed/leapfrog-clean.csv', index_col=False)\n",
    "\n",
    "leapClean.head()"
   ]
  },
  {
   "cell_type": "code",
   "execution_count": 34,
   "metadata": {
    "collapsed": false
   },
   "outputs": [],
   "source": [
    "# networkx x ish\n",
    "G = nx.DiGraph()\n",
    " \n",
    "# Read csv for nodes and edges using pandas:\n",
    "#leapCLean\n",
    " \n",
    "# Dataframe to list:\n",
    "# add class and degree major\n",
    "# what degrees take this class?\n",
    "G.add_nodes_from(leapClean['class'].unique())\n",
    "G.add_nodes_from(leapClean['degreeMajor'].unique())\n",
    "\n",
    "G.add_edges_from([tuple(x) for x in leapClean[['class', 'degreeMajor']].to_records(index=False)])"
   ]
  },
  {
   "cell_type": "code",
   "execution_count": 35,
   "metadata": {
    "collapsed": false
   },
   "outputs": [],
   "source": [
    "#j = json_graph.node_link_data(G, directed=True)\n",
    "j = json_graph.node_link_data(G, \n",
    "              attrs={'id':'name', 'source':'source', 'target':'target'})\n",
    "js = json.dumps(j, ensure_ascii=False, indent=2)\n",
    "with open('data/processed/graph.json', 'w') as file:\n",
    "    file.write(js)"
   ]
  },
  {
   "cell_type": "code",
   "execution_count": null,
   "metadata": {
    "collapsed": true
   },
   "outputs": [],
   "source": []
  }
 ],
 "metadata": {
  "anaconda-cloud": {},
  "kernelspec": {
   "display_name": "Python [conda root]",
   "language": "python",
   "name": "conda-root-py"
  },
  "language_info": {
   "codemirror_mode": {
    "name": "ipython",
    "version": 3
   },
   "file_extension": ".py",
   "mimetype": "text/x-python",
   "name": "python",
   "nbconvert_exporter": "python",
   "pygments_lexer": "ipython3",
   "version": "3.5.2"
  }
 },
 "nbformat": 4,
 "nbformat_minor": 1
}
