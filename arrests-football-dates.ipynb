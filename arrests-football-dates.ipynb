{
 "cells": [
  {
   "cell_type": "code",
   "execution_count": 1,
   "metadata": {
    "collapsed": false
   },
   "outputs": [],
   "source": [
    "import pandas as pd\n",
    "from datetime import datetime\n",
    "from datetime import timedelta"
   ]
  },
  {
   "cell_type": "code",
   "execution_count": 2,
   "metadata": {
    "collapsed": false
   },
   "outputs": [
    {
     "name": "stderr",
     "output_type": "stream",
     "text": [
      "/home/user/.anaconda3/lib/python3.5/site-packages/IPython/core/interactiveshell.py:2717: DtypeWarning: Columns (7) have mixed types. Specify dtype option on import or set low_memory=False.\n",
      "  interactivity=interactivity, compiler=compiler, result=result)\n"
     ]
    }
   ],
   "source": [
    "dirProc = 'data/processed/'\n",
    "\n",
    "arrestsDirty = pd.read_csv((dirProc + 'arrestdata-all.csv'), index_col='Unnamed: 0')\n",
    "homeGames = pd.read_csv((dirProc + 'iowa-home-games.csv'))"
   ]
  },
  {
   "cell_type": "code",
   "execution_count": 3,
   "metadata": {
    "collapsed": false
   },
   "outputs": [],
   "source": [
    "# helper function\n",
    "def toDate(x):\n",
    "    return datetime.strptime(x, '%Y-%m-%d')\n",
    "\n",
    "# get set of dates\n",
    "gameDates = homeGames['Date'].apply(lambda x: datetime.strptime(x, '%Y-%m-%d')).tolist()\n",
    "homeGames['Date'] = homeGames['Date'].apply(lambda x: toDate(x))"
   ]
  },
  {
   "cell_type": "code",
   "execution_count": 4,
   "metadata": {
    "collapsed": true
   },
   "outputs": [],
   "source": [
    "# get game information \n",
    "def getLookup(x):\n",
    "    #check if theres a day at all\n",
    "    if (x['arrweekday']):\n",
    "        \n",
    "        # Calc day\n",
    "        day = x['arrweekday']\n",
    "        weekday = 1 if day in ['Friday', 'Saturday', 'Sunday'] else 0\n",
    "\n",
    "        if (weekday == 1):\n",
    "            if (day == 'Saturday'):\n",
    "                lookup = toDate(x['arrdate'])\n",
    "            elif (day == 'Friday'):\n",
    "                lookup = toDate(x['arrdate']) + timedelta(days=1)\n",
    "            else:\n",
    "                lookup = toDate(x['arrdate']) - timedelta(days=1)  \n",
    "            return (lookup)\n"
   ]
  },
  {
   "cell_type": "code",
   "execution_count": 7,
   "metadata": {
    "collapsed": false
   },
   "outputs": [],
   "source": [
    "\n",
    "def getGame(x):\n",
    "    \n",
    "    #check if theres a day at all\n",
    "    if (x['arrweekday']):\n",
    "        \n",
    "        # Calc day\n",
    "        day = x['arrweekday']\n",
    "        weekday = 1 if day in ['Friday', 'Saturday', 'Sunday'] else 0\n",
    "\n",
    "        if (weekday == 1):\n",
    "            lookup = getLookup(x)\n",
    "    \n",
    "            gameWeekend = 1 if (lookup in gameDates) else 0\n",
    "            return gameWeekend\n",
    "        else:\n",
    "            return 0\n",
    "    # return 0 if theres no day\n",
    "    else:\n",
    "        return 0\n",
    "    \n",
    "def getDelta(x):\n",
    "    #check if its a gameweekend\n",
    "    if (x['gameWeekend'] == 1):\n",
    "        lookup = getLookup(x)\n",
    "        try:\n",
    "            gameDelta = homeGames[homeGames['Date'] == lookup]['Delta'].iat[0]\n",
    "        except:\n",
    "            gameDelta = ''\n",
    "        return gameDelta\n",
    "    else:\n",
    "        return False\n",
    "\n",
    "def getTeam(x):\n",
    "    #check if its a gameweekend\n",
    "    if (x['gameWeekend'] == 1):\n",
    "        lookup = getLookup(x)\n",
    "        gameTeam = homeGames[homeGames['Date'] == lookup]['Visitor'].iat[0]\n",
    "        return gameTeam\n",
    "    \n",
    "def getWin(x):\n",
    "    #check if its a gameweekend\n",
    "    if (x['gameWeekend'] == 1):\n",
    "        lookup = getLookup(x)\n",
    "        gameWin = homeGames[homeGames['Date'] == lookup]['Win'].iat[0]\n",
    "        return gameWin"
   ]
  },
  {
   "cell_type": "code",
   "execution_count": 8,
   "metadata": {
    "collapsed": false
   },
   "outputs": [],
   "source": [
    "arrestsDirty['gameWeekend'] = arrestsDirty.apply(lambda x: getGame(x), axis=1)\n",
    "arrestsDirty['gameDelta'] = arrestsDirty.apply(lambda x: getDelta(x), axis=1)\n",
    "arrestsDirty['gameTeam'] = arrestsDirty.apply(lambda x: getTeam(x), axis=1)\n",
    "arrestsDirty['gameWin'] = arrestsDirty.apply(lambda x: getWin(x), axis=1)"
   ]
  },
  {
   "cell_type": "code",
   "execution_count": 9,
   "metadata": {
    "collapsed": true
   },
   "outputs": [],
   "source": [
    "arrestsDirty.to_csv((dirProc + 'arrests-games-comb.csv'), index=False)"
   ]
  },
  {
   "cell_type": "code",
   "execution_count": null,
   "metadata": {
    "collapsed": true
   },
   "outputs": [],
   "source": []
  }
 ],
 "metadata": {
  "anaconda-cloud": {},
  "kernelspec": {
   "display_name": "Python [conda root]",
   "language": "python",
   "name": "conda-root-py"
  },
  "language_info": {
   "codemirror_mode": {
    "name": "ipython",
    "version": 3
   },
   "file_extension": ".py",
   "mimetype": "text/x-python",
   "name": "python",
   "nbconvert_exporter": "python",
   "pygments_lexer": "ipython3",
   "version": "3.5.2"
  }
 },
 "nbformat": 4,
 "nbformat_minor": 1
}
